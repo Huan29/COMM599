{
 "cells": [
  {
   "cell_type": "markdown",
   "metadata": {},
   "source": [
    "# Twitter API Introduction\n",
    "\n",
    "In this tutorial, we will be praciticing querying the Twitter API in python.\n",
    "\n",
    "We'll also be using Tweepy - which is a python wrapper that allows us to use the Twitter API. Of course, the Twitter API can be accessed directly as well, but Tweepy has a few extras that makes getting Tweets just a bit easier. \n",
    "\n",
    "\n",
    "### Resources and Links\n",
    "\n",
    "http://docs.tweepy.org/en/latest/\n"
   ]
  },
  {
   "cell_type": "code",
   "execution_count": 1,
   "metadata": {},
   "outputs": [],
   "source": [
    "import json\n",
    "import networkx as nx\n",
    "import tweepy\n",
    "# conda install -c conda-forge tweepy\n",
    "import numpy as np\n",
    "import matplotlib.pyplot as plt"
   ]
  },
  {
   "cell_type": "markdown",
   "metadata": {},
   "source": [
    "### Getting New Tweets\n",
    "\n",
    "Before you can access the API, you'll need to create a developer account and create/register your application wtih Twitter to get the necessary authentication keys. \n",
    "\n",
    "https://developer.twitter.com/"
   ]
  },
  {
   "cell_type": "code",
   "execution_count": 2,
   "metadata": {},
   "outputs": [],
   "source": [
    "info = {\"api_key\": \"\",\n",
    "        \"api_key_secret\": \"\",\n",
    "        \"bearer_token\" : \"\",\n",
    "        \"access_token\": \"\",\n",
    "        \"access_token_secret\": \"\"}"
   ]
  },
  {
   "cell_type": "markdown",
   "metadata": {},
   "source": [
    "My app: https://developer.twitter.com/en/portal/projects/1481027098718334976/apps"
   ]
  },
  {
   "cell_type": "code",
   "execution_count": 3,
   "metadata": {},
   "outputs": [],
   "source": [
    "info = json.loads(open('../.secrets/twitter_api.json').read())"
   ]
  },
  {
   "cell_type": "code",
   "execution_count": 4,
   "metadata": {},
   "outputs": [],
   "source": [
    "# Authenticate using our credentials\n",
    "\n",
    "client = tweepy.Client(\n",
    "    consumer_key       = info[\"api_key\"],\n",
    "    consumer_secret    = info[\"api_key_secret\"],\n",
    "    bearer_token       = info[\"bearer_token\"],\n",
    "    access_token       = info[\"access_token\"],\n",
    "    access_token_secret= info[\"access_token_secret\"],\n",
    "    wait_on_rate_limit = True\n",
    ")"
   ]
  },
  {
   "cell_type": "markdown",
   "metadata": {},
   "source": [
    "`search_all_tweets` - academic research mode only  \n",
    "https://developer.twitter.com/en/products/twitter-api/academic-research  \n",
    "https://developer.twitter.com/en/docs/twitter-api/tweets/search/introduction  \n",
    "https://docs.tweepy.org/en/stable/client.html#search-tweets  "
   ]
  },
  {
   "cell_type": "code",
   "execution_count": 54,
   "metadata": {},
   "outputs": [],
   "source": [
    "covid_tweets = client.search_recent_tweets(\n",
    "    query=\"covid\",\n",
    "    max_results=10,\n",
    ")"
   ]
  },
  {
   "cell_type": "code",
   "execution_count": 55,
   "metadata": {},
   "outputs": [
    {
     "data": {
      "text/plain": [
       "tweepy.client.Response"
      ]
     },
     "execution_count": 55,
     "metadata": {},
     "output_type": "execute_result"
    }
   ],
   "source": [
    "type(covid_tweets)"
   ]
  },
  {
   "cell_type": "code",
   "execution_count": 65,
   "metadata": {},
   "outputs": [
    {
     "name": "stdout",
     "output_type": "stream",
     "text": [
      "<class 'tweepy.tweet.Tweet'>\n",
      "{'id': '1493720920002904064', 'text': 'RT @HeartlandSignal: WI State Sen. Felzkowski (R), presenting a natural immunity bill, says she has had both delta and omicron infections.…'}\n"
     ]
    }
   ],
   "source": [
    "for tweet in covid_tweets[0]:\n",
    "    print(type(tweet))\n",
    "    print(tweet.data)\n",
    "    break"
   ]
  },
  {
   "cell_type": "code",
   "execution_count": 64,
   "metadata": {},
   "outputs": [
    {
     "data": {
      "text/plain": [
       "(4, {}, [])"
      ]
     },
     "execution_count": 64,
     "metadata": {},
     "output_type": "execute_result"
    }
   ],
   "source": [
    "len(covid_tweets),covid_tweets[1], covid_tweets[2]"
   ]
  },
  {
   "cell_type": "code",
   "execution_count": 8,
   "metadata": {
    "scrolled": true
   },
   "outputs": [
    {
     "data": {
      "text/plain": [
       "{'newest_id': '1493712137063215106',\n",
       " 'oldest_id': '1493712133837955072',\n",
       " 'result_count': 10,\n",
       " 'next_token': 'b26v89c19zqg8o3fpe765pscj3u4qa3zahma79k2ok48t'}"
      ]
     },
     "execution_count": 8,
     "metadata": {},
     "output_type": "execute_result"
    }
   ],
   "source": [
    "covid_tweets[3]"
   ]
  },
  {
   "cell_type": "markdown",
   "metadata": {},
   "source": [
    "https://developer.twitter.com/en/docs/twitter-api/fields"
   ]
  },
  {
   "cell_type": "code",
   "execution_count": 9,
   "metadata": {},
   "outputs": [],
   "source": [
    "fields = \"created_at,public_metrics\""
   ]
  },
  {
   "cell_type": "code",
   "execution_count": 66,
   "metadata": {},
   "outputs": [],
   "source": [
    "covid_tweets_field = client.search_recent_tweets(\n",
    "    query=\"covid\",\n",
    "    max_results=10,\n",
    "    tweet_fields=fields\n",
    ")"
   ]
  },
  {
   "cell_type": "code",
   "execution_count": 67,
   "metadata": {
    "scrolled": true
   },
   "outputs": [
    {
     "name": "stdout",
     "output_type": "stream",
     "text": [
      "{'created_at': '2022-02-15T23:10:49.000Z', 'id': '1493724510301790214', 'text': '@nihilistcute Hahahahahahahahha esse sou eu no pós covid. Não lembro de nada e uso o coiso, a coisa...', 'public_metrics': {'retweet_count': 0, 'reply_count': 0, 'like_count': 0, 'quote_count': 0}}\n",
      "2022-02-15 23:10:49+00:00\n"
     ]
    }
   ],
   "source": [
    "for tweet in covid_tweets_field[0]:\n",
    "    print(tweet.data)\n",
    "    print(tweet['created_at'])\n",
    "    break"
   ]
  },
  {
   "cell_type": "markdown",
   "metadata": {},
   "source": [
    "### Formulating a new query + saving data"
   ]
  },
  {
   "cell_type": "markdown",
   "metadata": {},
   "source": [
    "https://developer.twitter.com/en/docs/tutorials/building-high-quality-filters"
   ]
  },
  {
   "cell_type": "code",
   "execution_count": 68,
   "metadata": {},
   "outputs": [],
   "source": [
    "expansions = \"author_id,referenced_tweets.id.author_id\""
   ]
  },
  {
   "cell_type": "code",
   "execution_count": 16,
   "metadata": {},
   "outputs": [],
   "source": [
    "tweets_field_exp = client.search_recent_tweets(\n",
    "    query=\"#StopAsianHate\",\n",
    "    max_results=10,\n",
    "    tweet_fields=fields,\n",
    "    expansions=expansions\n",
    ")"
   ]
  },
  {
   "cell_type": "code",
   "execution_count": 69,
   "metadata": {},
   "outputs": [],
   "source": [
    "### Saving data to your machine\n",
    "tweet_data_dict = [tweet.data for tweet in tweets_field_exp[0]]\n",
    "with open(\"query1.json\", \"w\") as outfile:\n",
    "    json.dump(tweet_data_dict, outfile, indent=4)\n"
   ]
  },
  {
   "cell_type": "markdown",
   "metadata": {},
   "source": [
    "### Getting re-tweeters"
   ]
  },
  {
   "cell_type": "markdown",
   "metadata": {},
   "source": [
    "https://docs.tweepy.org/en/stable/client.html#tweet-lookup"
   ]
  },
  {
   "cell_type": "code",
   "execution_count": 48,
   "metadata": {},
   "outputs": [],
   "source": [
    "retweeters = []\n",
    "for tweet in tweet_data_dict:\n",
    "    rt = tweet.get('referenced_tweets')\n",
    "    if rt and rt[0]['type'] in ['retweeted','quoted']:\n",
    "        ref_tweet = client.get_tweet(\n",
    "            id=rt[0]['id'],\n",
    "            expansions='author_id'\n",
    "        )\n",
    "        retweeters.append(\n",
    "            [ tweet.get('author_id'), ref_tweet[0].data.get('author_id')]\n",
    "        )"
   ]
  },
  {
   "cell_type": "code",
   "execution_count": 49,
   "metadata": {},
   "outputs": [
    {
     "data": {
      "text/plain": [
       "[['2165807125', '4079305401'],\n",
       " ['1158792198948904962', '133836828'],\n",
       " ['1278132266091245569', '2283000038'],\n",
       " ['1479851435210817546', '1488913117'],\n",
       " ['529718133', '745540429'],\n",
       " ['2165807125', '63821681'],\n",
       " ['4141511834', '745540429'],\n",
       " ['908561864396726272', '24004575']]"
      ]
     },
     "execution_count": 49,
     "metadata": {},
     "output_type": "execute_result"
    }
   ],
   "source": [
    "retweeters"
   ]
  },
  {
   "cell_type": "code",
   "execution_count": 50,
   "metadata": {},
   "outputs": [
    {
     "data": {
      "text/plain": [
       "(16, 14)"
      ]
     },
     "execution_count": 50,
     "metadata": {},
     "output_type": "execute_result"
    }
   ],
   "source": [
    "connections = np.array(retweeters).flatten()\n",
    "\n",
    "nodes = list(set(np.array(retweeters).flatten()))\n",
    "\n",
    "len(connections), len(nodes)"
   ]
  },
  {
   "cell_type": "code",
   "execution_count": 51,
   "metadata": {},
   "outputs": [],
   "source": [
    "TW_G = nx.DiGraph()\n",
    "TW_G.add_nodes_from(nodes)\n",
    "TW_G.add_edges_from(retweeters)"
   ]
  },
  {
   "cell_type": "code",
   "execution_count": 52,
   "metadata": {},
   "outputs": [
    {
     "data": {
      "image/png": "[encoded data removed]",
      "text/plain": [
       "<Figure size 432x288 with 1 Axes>"
      ]
     },
     "metadata": {},
     "output_type": "display_data"
    }
   ],
   "source": [
    "ax = plt.subplots()\n",
    "\n",
    "pos = nx.spring_layout(TW_G, seed=260)\n",
    "nx.draw_networkx_edges(TW_G, pos, alpha=0.75, width=2)\n",
    "nx.draw_networkx_nodes(TW_G, pos, node_size=100).set_edgecolor('black')\n",
    "\n",
    "plt.tight_layout()\n",
    "plt.axis(\"off\")\n",
    "plt.show()"
   ]
  },
  {
   "cell_type": "code",
   "execution_count": null,
   "metadata": {},
   "outputs": [],
   "source": []
  }
 ],
 "metadata": {
  "kernelspec": {
   "display_name": "Python 3",
   "language": "python",
   "name": "python3"
  },
  "language_info": {
   "codemirror_mode": {
    "name": "ipython",
    "version": 3
   },
   "file_extension": ".py",
   "mimetype": "text/x-python",
   "name": "python",
   "nbconvert_exporter": "python",
   "pygments_lexer": "ipython3",
   "version": "3.8.0"
  }
 },
 "nbformat": 4,
 "nbformat_minor": 2
}
