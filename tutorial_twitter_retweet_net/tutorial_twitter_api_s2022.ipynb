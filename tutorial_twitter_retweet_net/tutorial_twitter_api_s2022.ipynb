{
 "cells": [
  {
   "cell_type": "markdown",
   "metadata": {},
   "source": [
    "# Twitter API Introduction\n",
    "\n",
    "In this tutorial, we will be praciticing querying the Twitter API in python.\n",
    "\n",
    "We'll also be using Tweepy - which is a python wrapper that allows us to use the Twitter API. Of course, the Twitter API can be accessed directly as well, but Tweepy has a few extras that makes getting Tweets just a bit easier. \n",
    "\n",
    "\n",
    "### Resources and Links\n",
    "\n",
    "http://docs.tweepy.org/en/latest/\n"
   ]
  },
  {
   "cell_type": "code",
   "execution_count": null,
   "metadata": {},
   "outputs": [],
   "source": [
    "import json\n",
    "import networkx as nx\n",
    "import tweepy\n",
    "# conda install -c conda-forge tweepy\n",
    "import numpy as np\n",
    "import matplotlib.pyplot as plt"
   ]
  },
  {
   "cell_type": "markdown",
   "metadata": {},
   "source": [
    "### Getting New Tweets\n",
    "\n",
    "Before you can access the API, you'll need to create a developer account and create/register your application wtih Twitter to get the necessary authentication keys. \n",
    "\n",
    "https://developer.twitter.com/"
   ]
  },
  {
   "cell_type": "code",
   "execution_count": null,
   "metadata": {},
   "outputs": [],
   "source": [
    "info = {\"api_key\": \"\",\n",
    "        \"api_key_secret\": \"\",\n",
    "        \"bearer_token\" : \"\",\n",
    "        \"access_token\": \"\",\n",
    "        \"access_token_secret\": \"\"}"
   ]
  },
  {
   "cell_type": "markdown",
   "metadata": {},
   "source": [
    "My app: https://developer.twitter.com/en/portal/projects/1481027098718334976/apps"
   ]
  },
  {
   "cell_type": "code",
   "execution_count": null,
   "metadata": {},
   "outputs": [],
   "source": [
    "info = json.loads(open('../.secrets/twitter_api.json').read())"
   ]
  },
  {
   "cell_type": "code",
   "execution_count": null,
   "metadata": {},
   "outputs": [],
   "source": [
    "# Authenticate using our credentials\n",
    "\n",
    "client = tweepy.Client(\n",
    "    consumer_key       = info[\"api_key\"],\n",
    "    consumer_secret    = info[\"api_key_secret\"],\n",
    "    bearer_token       = info[\"bearer_token\"],\n",
    "    access_token       = info[\"access_token\"],\n",
    "    access_token_secret= info[\"access_token_secret\"],\n",
    "    wait_on_rate_limit = True\n",
    ")"
   ]
  },
  {
   "cell_type": "markdown",
   "metadata": {},
   "source": [
    "`search_all_tweets` - academic research mode only  \n",
    "https://developer.twitter.com/en/products/twitter-api/academic-research  \n",
    "https://developer.twitter.com/en/docs/twitter-api/tweets/search/introduction  \n",
    "https://docs.tweepy.org/en/stable/client.html#search-tweets  "
   ]
  },
  {
   "cell_type": "code",
   "execution_count": null,
   "metadata": {},
   "outputs": [],
   "source": [
    "covid_tweets = client.search_recent_tweets(\n",
    "    query=\"covid-19\",\n",
    "    max_results=100,\n",
    ")"
   ]
  },
  {
   "cell_type": "code",
   "execution_count": null,
   "metadata": {},
   "outputs": [],
   "source": [
    "len(covid_tweets[0])"
   ]
  },
  {
   "cell_type": "code",
   "execution_count": null,
   "metadata": {},
   "outputs": [],
   "source": [
    "type(covid_tweets)"
   ]
  },
  {
   "cell_type": "code",
   "execution_count": null,
   "metadata": {},
   "outputs": [],
   "source": [
    "for tweet in covid_tweets[0]:\n",
    "    print(type(tweet))\n",
    "    print(tweet.data)\n",
    "    break"
   ]
  },
  {
   "cell_type": "code",
   "execution_count": null,
   "metadata": {},
   "outputs": [],
   "source": [
    "len(covid_tweets),covid_tweets[1], covid_tweets[2]"
   ]
  },
  {
   "cell_type": "code",
   "execution_count": null,
   "metadata": {
    "scrolled": true
   },
   "outputs": [],
   "source": [
    "covid_tweets[3]"
   ]
  },
  {
   "cell_type": "code",
   "execution_count": null,
   "metadata": {},
   "outputs": [],
   "source": [
    "covid_tweets_2 = client.search_recent_tweets(\n",
    "    query=\"covid-19\",\n",
    "    max_results=10,\n",
    "    next_token='b26v89c19zqg8o3fpe77ew01eq35wboat1snf8lq8h5kt'\n",
    ")"
   ]
  },
  {
   "cell_type": "code",
   "execution_count": null,
   "metadata": {},
   "outputs": [],
   "source": [
    "len(covid_tweets_2[0])"
   ]
  },
  {
   "cell_type": "markdown",
   "metadata": {},
   "source": [
    "https://developer.twitter.com/en/docs/twitter-api/fields"
   ]
  },
  {
   "cell_type": "code",
   "execution_count": null,
   "metadata": {},
   "outputs": [],
   "source": [
    "fields = \"created_at,public_metrics\""
   ]
  },
  {
   "cell_type": "code",
   "execution_count": null,
   "metadata": {},
   "outputs": [],
   "source": [
    "covid_tweets_field = client.search_recent_tweets(\n",
    "    query=\"covid\",\n",
    "    max_results=10,\n",
    "    tweet_fields=fields\n",
    ")"
   ]
  },
  {
   "cell_type": "code",
   "execution_count": null,
   "metadata": {
    "scrolled": true
   },
   "outputs": [],
   "source": [
    "for tweet in covid_tweets_field[0]:\n",
    "    print(tweet.data)\n",
    "    print(tweet['created_at'])\n",
    "    break"
   ]
  },
  {
   "cell_type": "markdown",
   "metadata": {},
   "source": [
    "### Formulating a new query + saving data"
   ]
  },
  {
   "cell_type": "markdown",
   "metadata": {},
   "source": [
    "https://developer.twitter.com/en/docs/tutorials/building-high-quality-filters"
   ]
  },
  {
   "cell_type": "code",
   "execution_count": null,
   "metadata": {},
   "outputs": [],
   "source": [
    "expansions = \"author_id,referenced_tweets.id.author_id\""
   ]
  },
  {
   "cell_type": "code",
   "execution_count": null,
   "metadata": {},
   "outputs": [],
   "source": [
    "tweets_field_exp = client.search_recent_tweets(\n",
    "    query=\"#StopAsianHate\",\n",
    "    max_results=10,\n",
    "    tweet_fields=fields,\n",
    "    expansions=expansions\n",
    ")"
   ]
  },
  {
   "cell_type": "code",
   "execution_count": null,
   "metadata": {},
   "outputs": [],
   "source": [
    "### Saving data to your machine\n",
    "tweet_data_list = [tweet.data for tweet in tweets_field_exp[0]]\n",
    "with open(\"query1.json\", \"w\") as outfile:\n",
    "    json.dump(tweet_data_list, outfile, indent=4)\n"
   ]
  },
  {
   "cell_type": "markdown",
   "metadata": {},
   "source": [
    "### Getting re-tweeters"
   ]
  },
  {
   "cell_type": "markdown",
   "metadata": {},
   "source": [
    "https://docs.tweepy.org/en/stable/client.html#tweet-lookup"
   ]
  },
  {
   "cell_type": "code",
   "execution_count": null,
   "metadata": {},
   "outputs": [],
   "source": [
    "tweet_data_list = json.loads(open('./query1.json').read())"
   ]
  },
  {
   "cell_type": "code",
   "execution_count": null,
   "metadata": {},
   "outputs": [],
   "source": [
    "retweeters = []\n",
    "# Go through the tweet data list\n",
    "for tweet_dict in tweet_data_list:\n",
    "    # Get the referenced tweets\n",
    "    ref_tweet = tweet_dict.get('referenced_tweets')\n",
    "    # If there is one, get the first one and see if it's a retweet or quote tweet\n",
    "    if ref_tweet and ref_tweet[0]['type'] in ['retweeted','quoted']:\n",
    "        # Get that referenced tweet\n",
    "        ref_tweet = client.get_tweet(\n",
    "            id=ref_tweet[0]['id'],\n",
    "            expansions='author_id'\n",
    "        )\n",
    "        # add the original and the referenced to the list\n",
    "        retweeters.append(\n",
    "            [ tweet_dict.get('author_id'), ref_tweet[0].data.get('author_id')]\n",
    "        )em"
   ]
  },
  {
   "cell_type": "code",
   "execution_count": null,
   "metadata": {},
   "outputs": [],
   "source": [
    "retweeters"
   ]
  },
  {
   "cell_type": "code",
   "execution_count": null,
   "metadata": {},
   "outputs": [],
   "source": [
    "connections = np.array(retweeters).flatten()\n",
    "\n",
    "nodes = list(set(connections))\n",
    "\n",
    "len(connections), len(nodes)"
   ]
  },
  {
   "cell_type": "code",
   "execution_count": null,
   "metadata": {},
   "outputs": [],
   "source": [
    "TW_G = nx.DiGraph()\n",
    "TW_G.add_nodes_from(nodes)\n",
    "TW_G.add_edges_from(retweeters)"
   ]
  },
  {
   "cell_type": "code",
   "execution_count": null,
   "metadata": {},
   "outputs": [],
   "source": [
    "ax = plt.subplots()\n",
    "\n",
    "pos = nx.spring_layout(TW_G, seed=170)\n",
    "nx.draw_networkx_edges(TW_G, pos, alpha=0.75, width=2)\n",
    "nx.draw_networkx_nodes(TW_G, pos, node_size=100).set_edgecolor('black')\n",
    "\n",
    "plt.tight_layout()\n",
    "plt.axis(\"off\")\n",
    "plt.show()"
   ]
  }
 ],
 "metadata": {
  "kernelspec": {
   "display_name": "Python 3",
   "language": "python",
   "name": "python3"
  },
  "language_info": {
   "codemirror_mode": {
    "name": "ipython",
    "version": 3
   },
   "file_extension": ".py",
   "mimetype": "text/x-python",
   "name": "python",
   "nbconvert_exporter": "python",
   "pygments_lexer": "ipython3",
   "version": "3.8.8"
  }
 },
 "nbformat": 4,
 "nbformat_minor": 2
}
