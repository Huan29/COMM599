{
 "cells": [
  {
   "cell_type": "code",
   "execution_count": null,
   "metadata": {},
   "outputs": [],
   "source": [
    "import json\n",
    "import nltk\n",
    "import spacy \n",
    "from datetime import datetime\n",
    "import tweepy\n",
    "import re\n",
    "import string\n",
    "import unicodedata\n",
    "from gensim import corpora\n",
    "from nltk.tokenize.toktok import ToktokTokenizer"
   ]
  },
  {
   "cell_type": "markdown",
   "metadata": {},
   "source": [
    "### Setting up Twitter API Streaming"
   ]
  },
  {
   "cell_type": "code",
   "execution_count": null,
   "metadata": {},
   "outputs": [],
   "source": [
    "# Let's use the Twitter Stream API to get tweets in real time\n",
    "# We save our tweets to a file called \"cats.json\"\n",
    "# override tweepy.StreamListener to add logic to on_status and on_error \n",
    "class MyStreamListener(tweepy.StreamListener):\n",
    "    def on_status(self, status):\n",
    "        print(status._json)\n",
    "        with open (\"cats.json\", \"a+\") as stream_f:\n",
    "            json_text = json.dumps(status._json)\n",
    "            stream_f.write(json_text)\n",
    "            stream_f.write('\\n')\n",
    "            \n",
    "    def on_error(self, status_code):\n",
    "        print(\"Error detected!\")\n",
    "        print (status_code)\n",
    "        return False"
   ]
  },
  {
   "cell_type": "code",
   "execution_count": null,
   "metadata": {},
   "outputs": [],
   "source": [
    "def clean_tweet(tweet): \n",
    "    processed_tweet = {}\n",
    "    processed_tweet[\"id\"] = tweet['id']\n",
    "    processed_tweet[\"user\"] = tweet['user']['screen_name']\n",
    "    processed_tweet[\"created_at\"] = datetime.strptime(tweet[\"created_at\"],'%a %b %d %H:%M:%S +0000 %Y')\n",
    "    created_at = datetime.strptime(tweet[\"created_at\"],'%a %b %d %H:%M:%S +0000 %Y')\n",
    "    processed_tweet[\"lang\"] = tweet['lang']\n",
    "    \n",
    "    if tweet['lang'] != \"en\":\n",
    "        processed_tweet[\"is_en\"] = False\n",
    "    else: \n",
    "        processed_tweet[\"is_en\"] = True\n",
    "        \n",
    "    if \"full_text\" in tweet: \n",
    "        processed_tweet[\"text\"] = tweet['full_text']\n",
    "    elif \"extended_tweet\" in tweet:\n",
    "        processed_tweet[\"text\"] = tweet[\"extended_tweet\"][\"full_text\"]\n",
    "    elif \"text\" in tweet: \n",
    "        processed_tweet[\"text\"] = tweet['text']\n",
    "        \n",
    "    if 'retweeted_status' in tweet:\n",
    "        rt = tweet['retweeted_status']\n",
    "        processed_tweet[\"is_rt\"] = True\n",
    "        processed_tweet[\"rt_user\"] = rt['user']['screen_name']\n",
    "        processed_tweet[\"rt_id\"] = rt['id']        \n",
    "        if \"full_text\" in rt:\n",
    "            processed_tweet[\"rt_text\"] = rt['full_text']\n",
    "        elif \"extended_tweet\" in tweet['retweeted_status']:\n",
    "            processed_tweet[\"rt_text\"] = tweet['retweeted_status']['extended_tweet'][\"full_text\"]\n",
    "        elif \"text\" in rt: \n",
    "            processed_tweet[\"rt_text\"] = rt['text']\n",
    "    else: \n",
    "        processed_tweet[\"is_rt\"] = False\n",
    "            \n",
    "    return processed_tweet"
   ]
  },
  {
   "cell_type": "code",
   "execution_count": null,
   "metadata": {},
   "outputs": [],
   "source": [
    "info = {\"consumer_key\": \"\",\n",
    "        \"consumer_secret\": \"\",\n",
    "        \"access_token\": \"\",\n",
    "        \"access_secret\": \"\"}"
   ]
  },
  {
   "cell_type": "code",
   "execution_count": null,
   "metadata": {},
   "outputs": [],
   "source": [
    "auth = tweepy.OAuthHandler(info['consumer_key'], info['consumer_secret'])\n",
    "auth.set_access_token(info['access_token'], info['access_secret'])\n",
    "\n",
    "api = tweepy.API(auth, wait_on_rate_limit=True, wait_on_rate_limit_notify=True)"
   ]
  },
  {
   "cell_type": "markdown",
   "metadata": {},
   "source": [
    "### Collecting Twitter Data"
   ]
  },
  {
   "cell_type": "code",
   "execution_count": null,
   "metadata": {},
   "outputs": [],
   "source": [
    "myStreamListener = MyStreamListener()\n",
    "myStream = tweepy.Stream(auth = api.auth, listener=myStreamListener)\n",
    "myStream.filter(track=['cats'])"
   ]
  },
  {
   "cell_type": "code",
   "execution_count": null,
   "metadata": {},
   "outputs": [],
   "source": [
    "# load the raw tweets found from the search and stream apis into the same list for processing\n",
    "tweet_data = []\n",
    "\n",
    "with open(\"cats.json\") as stream_f:\n",
    "    for line in stream_f:\n",
    "        json_line = json.loads(line)\n",
    "        tweet_data.append(json_line)\n",
    "        \n",
    "# filter all of the raw tweets by turning them into clean_tweet objects\n",
    "# the filtering is taken care of in the class function\n",
    "filtered_data = []\n",
    "for elem in tweet_data: \n",
    "    filtered_tweet = clean_tweet(elem)\n",
    "    filtered_data.append(filtered_tweet)"
   ]
  },
  {
   "cell_type": "code",
   "execution_count": null,
   "metadata": {},
   "outputs": [],
   "source": [
    "filtered_data"
   ]
  },
  {
   "cell_type": "code",
   "execution_count": null,
   "metadata": {},
   "outputs": [],
   "source": [
    "# create a list of all the tweet text \n",
    "# we filter out all tweets that are not English\n",
    "tweet_text = []\n",
    "for tweet in filtered_data:\n",
    "    if tweet[\"is_en\"]:\n",
    "        if tweet[\"is_rt\"]: \n",
    "            tweet_text.append(tweet[\"rt_text\"].replace(\"\\n\", \" \"))\n",
    "        else:\n",
    "            tweet_text.append(tweet[\"text\"].replace(\"\\n\", \" \"))"
   ]
  },
  {
   "cell_type": "code",
   "execution_count": null,
   "metadata": {},
   "outputs": [],
   "source": [
    "tweet_text"
   ]
  },
  {
   "cell_type": "markdown",
   "metadata": {},
   "source": [
    "### Preprocessing Data"
   ]
  },
  {
   "cell_type": "code",
   "execution_count": null,
   "metadata": {},
   "outputs": [],
   "source": [
    "# remove HTML links, mentions, hashtags, and special characters\n",
    "\n",
    "def strip_links(text):\n",
    "    link_regex    = re.compile('((https?):((//)|(\\\\\\\\))+([\\w\\d:#@%/;$()~_?\\+-=\\\\\\.&](#!)?)*)', re.DOTALL)\n",
    "    links         = re.findall(link_regex, text)\n",
    "    for link in links:\n",
    "        text = text.replace(link[0], ' ')    \n",
    "    return text\n",
    "\n",
    "def strip_mentions(text):\n",
    "    entity_prefixes = ['@']\n",
    "    for separator in  string.punctuation:\n",
    "        if separator not in entity_prefixes :\n",
    "            text = text.replace(separator,' ')\n",
    "    words = []\n",
    "    for word in text.split():\n",
    "        word = word.strip()\n",
    "        if word:\n",
    "            if word[0] not in entity_prefixes:\n",
    "                words.append(word)\n",
    "    return ' '.join(words)\n",
    "\n",
    "def strip_hashtags(text):\n",
    "    entity_prefixes = ['#']\n",
    "    for separator in  string.punctuation:\n",
    "        if separator not in entity_prefixes :\n",
    "            text = text.replace(separator,' ')\n",
    "    words = []\n",
    "    for word in text.split():\n",
    "        word = word.strip()\n",
    "        if word:\n",
    "            if word[0] not in entity_prefixes:\n",
    "                words.append(word)\n",
    "    return ' '.join(words)\n",
    "        \n",
    "def remove_special_characters(text, remove_digits=False):\n",
    "    pattern = r'[^a-zA-z0-9\\s]' if not remove_digits else r'[^a-zA-z\\s]'\n",
    "    text = re.sub(pattern, '', text)\n",
    "    text = unicodedata.normalize('NFKD', text).encode('ascii', 'ignore').decode('utf-8', 'ignore')\n",
    "    return text"
   ]
  },
  {
   "cell_type": "code",
   "execution_count": null,
   "metadata": {},
   "outputs": [],
   "source": [
    "stripped_tweet_text = []\n",
    "for elem in tweet_text:\n",
    "    elem = strip_links(elem)\n",
    "    elem = strip_mentions(elem)\n",
    "    elem = strip_hashtags(elem)\n",
    "    elem = elem.replace('RT', '')\n",
    "    elem = remove_special_characters(elem)\n",
    "    stripped_tweet_text.append(elem)"
   ]
  },
  {
   "cell_type": "code",
   "execution_count": null,
   "metadata": {},
   "outputs": [],
   "source": [
    "stripped_tweet_text"
   ]
  },
  {
   "cell_type": "markdown",
   "metadata": {},
   "source": [
    "### Sentiment Analysis"
   ]
  },
  {
   "cell_type": "code",
   "execution_count": null,
   "metadata": {},
   "outputs": [],
   "source": [
    "from textblob import TextBlob\n",
    "\n",
    "for elem in stripped_tweet_text:\n",
    "    print (elem)\n",
    "    elem_textblob = TextBlob(elem)\n",
    "    print (elem_textblob.sentiment)\n",
    "    print (\"----\")"
   ]
  },
  {
   "cell_type": "code",
   "execution_count": null,
   "metadata": {},
   "outputs": [],
   "source": [
    "#find sentiment vader\n",
    "from vaderSentiment.vaderSentiment import SentimentIntensityAnalyzer\n",
    "analyser = SentimentIntensityAnalyzer()"
   ]
  },
  {
   "cell_type": "code",
   "execution_count": null,
   "metadata": {},
   "outputs": [],
   "source": [
    "snt = analyser.polarity_scores('This is an examle of a happy tweet')\n",
    "print(snt)"
   ]
  },
  {
   "cell_type": "code",
   "execution_count": null,
   "metadata": {},
   "outputs": [],
   "source": [
    "for elem in stripped_tweet_text:\n",
    "    print (elem)\n",
    "    print (analyser.polarity_scores(elem))\n",
    "    print (\"----\")"
   ]
  },
  {
   "cell_type": "markdown",
   "metadata": {},
   "source": [
    "### Stemming/Lemming"
   ]
  },
  {
   "cell_type": "code",
   "execution_count": null,
   "metadata": {},
   "outputs": [],
   "source": [
    "# Stemming / Lemming\n",
    "nlp = spacy.load('en_core_web_sm', parse=True, tag=True, entity=True)\n",
    "\n",
    "def simple_stemmer(text):\n",
    "    ps = nltk.porter.PorterStemmer()\n",
    "    text = ' '.join([ps.stem(word) for word in text.split()])\n",
    "    return text\n",
    "\n",
    "def lemmatize_text(text):\n",
    "    text = nlp(text)\n",
    "    text = ' '.join([word.lemma_ if word.lemma_ != '-PRON-' else word.text for word in text])\n",
    "    return text"
   ]
  },
  {
   "cell_type": "markdown",
   "metadata": {},
   "source": [
    "### Tokenizing and Corpus Creation"
   ]
  },
  {
   "cell_type": "code",
   "execution_count": null,
   "metadata": {},
   "outputs": [],
   "source": [
    "tokenizer = ToktokTokenizer()\n",
    "nltk.download('stopwords')\n",
    "stopword_list = nltk.corpus.stopwords.words('english')\n",
    "\n",
    "def remove_stopwords(text, is_lower_case=False):\n",
    "    tokens = tokenizer.tokenize(text)\n",
    "    tokens = [token.strip() for token in tokens]\n",
    "    if is_lower_case:\n",
    "        filtered_tokens = [token for token in tokens if token not in stopword_list]\n",
    "    else:\n",
    "        filtered_tokens = [token for token in tokens if token.lower() not in stopword_list]\n",
    "    filtered_text = ' '.join(filtered_tokens)    \n",
    "    return filtered_text\n",
    "\n"
   ]
  },
  {
   "cell_type": "code",
   "execution_count": null,
   "metadata": {},
   "outputs": [],
   "source": [
    "#Create corupus of all words\n",
    "words_corpus = []\n",
    "for elem in stripped_tweet_text:\n",
    "    # remove stop words\n",
    "    elem = remove_stopwords(elem)\n",
    "    # lemmatize text\n",
    "    elem = lemmatize_text(elem)\n",
    "    words_corpus.append(elem.lower().split())\n",
    "print(words_corpus)\n",
    "\n",
    "dictionary = corpora.Dictionary(words_corpus)\n",
    "print(dictionary)"
   ]
  },
  {
   "cell_type": "markdown",
   "metadata": {},
   "source": [
    "### Topic Modeling"
   ]
  },
  {
   "cell_type": "code",
   "execution_count": null,
   "metadata": {},
   "outputs": [],
   "source": [
    "dictionary.filter_extremes(no_below=15, no_above=0.5, keep_n=100000)\n",
    "\n",
    "corpus_bow = [dictionary.doc2bow(text) for text in words_corpus]\n",
    "\n",
    "#Term Frequency - Inverse Document Frequency\n",
    "\n",
    "from gensim import corpora, models\n",
    "tfidf = models.TfidfModel(corpus_bow)\n",
    "corpus_tfidf = tfidf[corpus_bow]\n"
   ]
  },
  {
   "cell_type": "code",
   "execution_count": null,
   "metadata": {},
   "outputs": [],
   "source": [
    "#Only 3 topics this time for simplicity\n",
    "num_topics = 3\n",
    "lda_model_tfidf = models.LdaMulticore(corpus_tfidf, num_topics=num_topics, id2word=dictionary, passes=2, workers=4)\n",
    "for idx, topic in lda_model_tfidf.print_topics(-1):\n",
    "    print('Topic: {} Word: {}'.format(idx, topic))"
   ]
  },
  {
   "cell_type": "markdown",
   "metadata": {},
   "source": [
    "### Part of Speech Tagging"
   ]
  },
  {
   "cell_type": "code",
   "execution_count": null,
   "metadata": {},
   "outputs": [],
   "source": [
    "sentence = 'London is the capital and most populous city of England and the United Kingdom'\n",
    "#sentence = stripped_tweet_text[0]\n",
    "sentence_nlp = nlp(sentence)"
   ]
  },
  {
   "cell_type": "code",
   "execution_count": null,
   "metadata": {},
   "outputs": [],
   "source": [
    "from spacy import displacy\n",
    "displacy.render(sentence_nlp, jupyter=True, \n",
    "                options={'distance': 110,\n",
    "                         'arrow_stroke': 2,\n",
    "                         'arrow_width': 8})"
   ]
  },
  {
   "cell_type": "code",
   "execution_count": null,
   "metadata": {},
   "outputs": [],
   "source": [
    "# print named entities in article\n",
    "print([(word, word.ent_type_) for word in sentence_nlp if word.ent_type_])\n",
    "\n",
    "# visualize named entities\n",
    "displacy.render(sentence_nlp, style='ent', jupyter=True)"
   ]
  },
  {
   "cell_type": "code",
   "execution_count": null,
   "metadata": {},
   "outputs": [],
   "source": []
  }
 ],
 "metadata": {
  "kernelspec": {
   "display_name": "Python 3",
   "language": "python",
   "name": "python3"
  },
  "language_info": {
   "codemirror_mode": {
    "name": "ipython",
    "version": 3
   },
   "file_extension": ".py",
   "mimetype": "text/x-python",
   "name": "python",
   "nbconvert_exporter": "python",
   "pygments_lexer": "ipython3",
   "version": "3.8.8"
  }
 },
 "nbformat": 4,
 "nbformat_minor": 2
}
