{
 "cells": [
  {
   "cell_type": "code",
   "execution_count": null,
   "metadata": {},
   "outputs": [],
   "source": [
    "print (\"This is tutorial 2!\")"
   ]
  },
  {
   "cell_type": "code",
   "execution_count": 64,
   "metadata": {},
   "outputs": [],
   "source": [
    "import json\n",
    "import pickle \n",
    "import networkx as nx\n",
    "import wget\n",
    "\n",
    "TWEET_PICKLE = \"election-day.pickle\"\n",
    "FILTER_TWEETS = False\n",
    "\n",
    "RETWEET_G_PICKLE = \"election-day-retweet.pickle\"\n",
    "CREATE_GRAPH = False"
   ]
  },
  {
   "cell_type": "code",
   "execution_count": 66,
   "metadata": {},
   "outputs": [],
   "source": [
    "#wget --load-cookies /tmp/cookies.txt \"https://docs.google.com/uc?export=download&confirm=$(wget --quiet --save-cookies /tmp/cookies.txt --keep-session-cookies --no-check-certificate 'https://docs.google.com/uc?export=download&id=1vSU3w-tVTHgtgoiBas8Knp14C6BT9IRD' -O- | sed -rn 's/.*confirm=([0-9A-Za-z_]+).*/\\1\\n/p')&id=1vSU3w-tVTHgtgoiBas8Knp14C6BT9IRD\" -O tutorial_2/election-day.pickle && rm -rf /tmp/cookies.txt\n",
    "#wget --load-cookies /tmp/cookies.txt \"https://docs.google.com/uc?export=download&confirm=$(wget --quiet --save-cookies /tmp/cookies.txt --keep-session-cookies --no-check-certificate 'https://docs.google.com/uc?export=download&id=1dsWKYNNuLko4fNuekXi1y384xNYcu5Xt' -O- | sed -rn 's/.*confirm=([0-9A-Za-z_]+).*/\\1\\n/p')&id=1dsWKYNNuLko4fNuekXi1y384xNYcu5Xt\" -O tutorial_2/election-day-retweet.pickle && rm -rf /tmp/cookies.txt"
   ]
  },
  {
   "cell_type": "code",
   "execution_count": null,
   "metadata": {},
   "outputs": [],
   "source": [
    "if FILTER_TWEETS: \n",
    "    data = []\n",
    "    with open('election-day.txt') as f:\n",
    "        for line in f:\n",
    "            json_line = json.loads(line)\n",
    "            data.append(json_line)\n",
    "\n",
    "    class clean_tweet: \n",
    "        def __init__(self, tweet): \n",
    "            self.id = tweet['id']\n",
    "            self.user = tweet['user']['name']\n",
    "            self.text = tweet['full_text']\n",
    "            if 'retweeted_status' in tweet:\n",
    "                rt = tweet['retweeted_status']\n",
    "                self.is_rt = True\n",
    "                self.rt_text = rt['full_text']\n",
    "                self.rt_user = rt['user']['name']\n",
    "                self.rt_id = rt['id']\n",
    "            else: \n",
    "                self.is_rt = False\n",
    "\n",
    "    filtered_data = []\n",
    "    for elem in data: \n",
    "        filtered_tweet = clean_tweet(elem)\n",
    "        filtered_data.append(filtered_tweet)"
   ]
  },
  {
   "cell_type": "code",
   "execution_count": null,
   "metadata": {},
   "outputs": [],
   "source": [
    "if FILTER_TWEETS:\n",
    "    with open (TWEET_PICKLE, \"wb\") as file: \n",
    "        pickle.dump(filtered_data, file)\n",
    "        print (\"wrote Twitter file to pickle file\")\n"
   ]
  },
  {
   "cell_type": "code",
   "execution_count": null,
   "metadata": {},
   "outputs": [],
   "source": [
    "with open (TWEET_PICKLE, \"rb\") as file:\n",
    "    filtered_data = pickle.load(file)"
   ]
  },
  {
   "cell_type": "code",
   "execution_count": null,
   "metadata": {},
   "outputs": [],
   "source": [
    "filtered_data"
   ]
  },
  {
   "cell_type": "code",
   "execution_count": null,
   "metadata": {},
   "outputs": [],
   "source": [
    "len(filtered_data)"
   ]
  },
  {
   "cell_type": "code",
   "execution_count": null,
   "metadata": {},
   "outputs": [],
   "source": [
    "# construct graph for retweet graph\n",
    "if CREATE_GRAPH:\n",
    "    G=nx.DiGraph()\n",
    "\n",
    "    for elem in filtered_data: \n",
    "        G.add_node(elem.user)\n",
    "\n",
    "        if elem.is_rt: \n",
    "            G.add_node(elem.rt_user)\n",
    "            G.add_edge(elem.user, elem.rt_user)\n",
    "        "
   ]
  },
  {
   "cell_type": "code",
   "execution_count": null,
   "metadata": {},
   "outputs": [],
   "source": [
    "if CREATE_GRAPH: \n",
    "    with open (RETWEET_G_PICKLE, \"wb\") as file: \n",
    "        pickle.dump(G, file)\n",
    "        print (\"wrote Twitter graph to pickle file\")"
   ]
  },
  {
   "cell_type": "code",
   "execution_count": null,
   "metadata": {},
   "outputs": [],
   "source": [
    "with open (RETWEET_G_PICKLE, \"rb\") as file:\n",
    "    G = pickle.load(file)\n",
    "    print (\"loaded Twitter retweet graph\")"
   ]
  },
  {
   "cell_type": "code",
   "execution_count": null,
   "metadata": {},
   "outputs": [],
   "source": [
    "print (len(G.nodes()))\n",
    "print (len(G.edges()))"
   ]
  },
  {
   "cell_type": "code",
   "execution_count": null,
   "metadata": {},
   "outputs": [],
   "source": []
  }
 ],
 "metadata": {
  "kernelspec": {
   "display_name": "Python 3",
   "language": "python",
   "name": "python3"
  },
  "language_info": {
   "codemirror_mode": {
    "name": "ipython",
    "version": 3
   },
   "file_extension": ".py",
   "mimetype": "text/x-python",
   "name": "python",
   "nbconvert_exporter": "python",
   "pygments_lexer": "ipython3",
   "version": "3.7.5"
  }
 },
 "nbformat": 4,
 "nbformat_minor": 2
}
