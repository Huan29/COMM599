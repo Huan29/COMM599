{
 "cells": [
  {
   "cell_type": "code",
   "execution_count": null,
   "metadata": {},
   "outputs": [],
   "source": [
    "print (\"This is tutorial 2!\")"
   ]
  },
  {
   "cell_type": "code",
   "execution_count": null,
   "metadata": {},
   "outputs": [],
   "source": [
    "import json\n",
    "import pickle \n",
    "import networkx as nx\n",
    "import wget\n",
    "\n",
    "TWEET_JSON = \"democratic-party-timelines.json\"\n",
    "\n",
    "FILTER_TWEETS = True\n",
    "CREATE_GRAPH = True"
   ]
  },
  {
   "cell_type": "code",
   "execution_count": null,
   "metadata": {},
   "outputs": [],
   "source": [
    "class clean_tweet: \n",
    "    def __init__(self, tweet): \n",
    "        self.id = tweet['id']\n",
    "        self.user = tweet['user']['name']\n",
    "        self.text = tweet['full_text']\n",
    "        if 'retweeted_status' in tweet:\n",
    "            rt = tweet['retweeted_status']\n",
    "            self.is_rt = True\n",
    "            self.rt_text = rt['full_text']\n",
    "            self.rt_user = rt['user']['name']\n",
    "            self.rt_id = rt['id']\n",
    "        else: \n",
    "            self.is_rt = False\n",
    "            \n",
    "if FILTER_TWEETS: \n",
    "    data = []\n",
    "    with open(TWEET_JSON) as f:\n",
    "        for line in f:\n",
    "            json_line = json.loads(line)\n",
    "            data.append(json_line)\n",
    "\n",
    "    filtered_data = []\n",
    "    for elem in data: \n",
    "        filtered_tweet = clean_tweet(elem)\n",
    "        filtered_data.append(filtered_tweet)"
   ]
  },
  {
   "cell_type": "code",
   "execution_count": null,
   "metadata": {},
   "outputs": [],
   "source": [
    "filtered_data"
   ]
  },
  {
   "cell_type": "code",
   "execution_count": null,
   "metadata": {},
   "outputs": [],
   "source": [
    "len(filtered_data)"
   ]
  },
  {
   "cell_type": "code",
   "execution_count": null,
   "metadata": {},
   "outputs": [],
   "source": [
    "# construct graph for retweet graph\n",
    "if CREATE_GRAPH:\n",
    "    G=nx.DiGraph()\n",
    "\n",
    "    for elem in filtered_data: \n",
    "        G.add_node(elem.user)\n",
    "\n",
    "        if elem.is_rt: \n",
    "            G.add_node(elem.rt_user)\n",
    "            G.add_edge(elem.user, elem.rt_user)\n",
    "        "
   ]
  },
  {
   "cell_type": "code",
   "execution_count": null,
   "metadata": {},
   "outputs": [],
   "source": [
    "print (len(G.nodes()))\n",
    "print (len(G.edges()))"
   ]
  },
  {
   "cell_type": "code",
   "execution_count": null,
   "metadata": {},
   "outputs": [],
   "source": []
  }
 ],
 "metadata": {
  "kernelspec": {
   "display_name": "Python 3",
   "language": "python",
   "name": "python3"
  },
  "language_info": {
   "codemirror_mode": {
    "name": "ipython",
    "version": 3
   },
   "file_extension": ".py",
   "mimetype": "text/x-python",
   "name": "python",
   "nbconvert_exporter": "python",
   "pygments_lexer": "ipython3",
   "version": "3.7.5"
  }
 },
 "nbformat": 4,
 "nbformat_minor": 2
}
