{
 "cells": [
  {
   "cell_type": "code",
   "execution_count": null,
   "metadata": {},
   "outputs": [],
   "source": [
    "import pandas as pd\n",
    "import matplotlib.pyplot as plt\n",
    "import numpy as np"
   ]
  },
  {
   "cell_type": "markdown",
   "metadata": {},
   "source": [
    "### Data Exploration"
   ]
  },
  {
   "cell_type": "code",
   "execution_count": null,
   "metadata": {},
   "outputs": [],
   "source": [
    "daily_cases_scores = pd.read_csv('../datasets/cases_scores_06-2020-07-2020.csv')\n",
    "daily_cases_scores['day'] = pd.to_datetime(daily_cases_scores['day'] )"
   ]
  },
  {
   "cell_type": "code",
   "execution_count": null,
   "metadata": {},
   "outputs": [],
   "source": [
    "daily_cases_scores.columns"
   ]
  },
  {
   "cell_type": "markdown",
   "metadata": {},
   "source": [
    "#### Cases"
   ]
  },
  {
   "cell_type": "code",
   "execution_count": null,
   "metadata": {},
   "outputs": [],
   "source": [
    "fig, ax = plt.subplots()\n",
    "wa_cases = daily_cases_scores[daily_cases_scores['state']=='WA']\n",
    "wa_cases.set_index('day')['cases_7d_avg_per_100k'].plot(ax=ax,label='WA')\n",
    "tx_cases = daily_cases_scores[daily_cases_scores['state']=='TX']\n",
    "tx_cases.set_index('day')['cases_7d_avg_per_100k'].plot(ax=ax,label='TX')\n",
    "ny_cases = daily_cases_scores[daily_cases_scores['state']=='NY']\n",
    "ny_cases.set_index('day')['cases_7d_avg_per_100k'].plot(ax=ax,label='NY')\n",
    "ax.set_title('Cases per 100k (7 day avg) for Various States')\n",
    "ax.set_ylabel('Cases per 100k (7 day avg)')\n",
    "ax.spines['top'].set_visible(False)\n",
    "ax.spines['right'].set_visible(False)\n",
    "_ = ax.legend()"
   ]
  },
  {
   "cell_type": "markdown",
   "metadata": {},
   "source": [
    "#### Misinfo/polarity"
   ]
  },
  {
   "cell_type": "code",
   "execution_count": null,
   "metadata": {},
   "outputs": [],
   "source": [
    "fig, ax = plt.subplots()\n",
    "wa_cases = daily_cases_scores[daily_cases_scores['state']=='WA']\n",
    "wa_cases.set_index('day')['factual_score_mean_7d_avg'].plot(ax=ax,label='WA')\n",
    "tx_cases = daily_cases_scores[daily_cases_scores['state']=='TX']\n",
    "tx_cases.set_index('day')['factual_score_mean_7d_avg'].plot(ax=ax,label='TX')\n",
    "ny_cases = daily_cases_scores[daily_cases_scores['state']=='NY']\n",
    "ny_cases.set_index('day')['factual_score_mean_7d_avg'].plot(ax=ax,label='NY')\n",
    "ax.set_title('Misinfo Scores (7 day avg) for Various States')\n",
    "ax.set_ylabel('Misinfo Score (7 day avg)')\n",
    "ax.spines['top'].set_visible(False)\n",
    "ax.spines['right'].set_visible(False)\n",
    "_ = ax.legend()"
   ]
  },
  {
   "cell_type": "code",
   "execution_count": null,
   "metadata": {},
   "outputs": [],
   "source": [
    "fig, ax = plt.subplots()\n",
    "wa_cases = daily_cases_scores[daily_cases_scores['state']=='WA']\n",
    "wa_cases.set_index('day')['polarity_score_mean_7d_avg'].plot(ax=ax,label='WA')\n",
    "tx_cases = daily_cases_scores[daily_cases_scores['state']=='TX']\n",
    "tx_cases.set_index('day')['polarity_score_mean_7d_avg'].plot(ax=ax,label='TX')\n",
    "ny_cases = daily_cases_scores[daily_cases_scores['state']=='NY']\n",
    "ny_cases.set_index('day')['polarity_score_mean_7d_avg'].plot(ax=ax,label='NY')\n",
    "ax.set_title('Polarity Scores (7 day avg) for Various States')\n",
    "_ = ax.legend()"
   ]
  },
  {
   "cell_type": "code",
   "execution_count": null,
   "metadata": {},
   "outputs": [],
   "source": [
    "fig, ax = plt.subplots()\n",
    "daily_cases_scores['factual_score_mean_7d_avg'].hist(ax=ax,label='factual')\n",
    "daily_cases_scores['polarity_score_mean_7d_avg'].hist(ax=ax,label='polarity')\n",
    "ax.set_title('Distribution of scores for Dataset')\n",
    "_ = ax.legend()"
   ]
  },
  {
   "cell_type": "markdown",
   "metadata": {},
   "source": [
    "### Modeling\n",
    "https://scikit-learn.org/stable/modules/generated/sklearn.linear_model.Ridge.html  \n",
    "https://scikit-learn.org/stable/modules/generated/sklearn.ensemble.RandomForestRegressor.html "
   ]
  },
  {
   "cell_type": "code",
   "execution_count": null,
   "metadata": {},
   "outputs": [],
   "source": [
    "from sklearn.linear_model import RidgeCV, Ridge\n",
    "from sklearn.preprocessing import StandardScaler\n",
    "from sklearn.ensemble import RandomForestRegressor\n",
    "from sklearn.model_selection import train_test_split\n",
    "from sklearn.metrics import mean_squared_error, make_scorer, r2_score, mean_absolute_percentage_error, explained_variance_score"
   ]
  },
  {
   "cell_type": "code",
   "execution_count": null,
   "metadata": {},
   "outputs": [],
   "source": [
    "scaler = StandardScaler()\n",
    "feats = ['saho_score_7d_avg',\n",
    "       'sor_score_7d_avg', 'fcr_score_7d_avg', \n",
    "       'factual_score_mean_7d_avg', 'polarity_score_mean_7d_avg',\n",
    "       'factual_score_std_7d_avg', 'polarity_score_std_7d_avg'\n",
    "]\n",
    "X = daily_cases_scores[feats]\n",
    "X = scaler.fit_transform(X)\n",
    "y = daily_cases_scores['cases_7d_avg_per_100k']"
   ]
  },
  {
   "cell_type": "code",
   "execution_count": null,
   "metadata": {
    "scrolled": true
   },
   "outputs": [],
   "source": [
    "X_train, X_test, y_train, y_test = train_test_split(X, y, test_size=0.2, random_state=42, shuffle=True)"
   ]
  },
  {
   "cell_type": "code",
   "execution_count": null,
   "metadata": {},
   "outputs": [],
   "source": [
    "len(X_train), len(X_test)"
   ]
  },
  {
   "cell_type": "code",
   "execution_count": null,
   "metadata": {},
   "outputs": [],
   "source": [
    "clf = RidgeCV(\n",
    "    alphas=[1e-3, 1e-2, 1e-1, 1],\n",
    "    cv=5,\n",
    "    scoring=make_scorer(mean_absolute_percentage_error)\n",
    ")"
   ]
  },
  {
   "cell_type": "code",
   "execution_count": null,
   "metadata": {
    "scrolled": true
   },
   "outputs": [],
   "source": [
    "clf.fit(X_train,y_train)\n",
    "clf.alpha_, clf.best_score_"
   ]
  },
  {
   "cell_type": "code",
   "execution_count": null,
   "metadata": {},
   "outputs": [],
   "source": [
    "clf = Ridge(alpha=1)"
   ]
  },
  {
   "cell_type": "code",
   "execution_count": null,
   "metadata": {},
   "outputs": [],
   "source": [
    "clf.fit(X,y)\n",
    "clf.score(X_test,y_test), mean_absolute_percentage_error(y_test,clf.predict(X_test))"
   ]
  },
  {
   "cell_type": "markdown",
   "metadata": {},
   "source": [
    "#### Random Forest Regressor"
   ]
  },
  {
   "cell_type": "code",
   "execution_count": null,
   "metadata": {},
   "outputs": [],
   "source": [
    "clf =  RandomForestRegressor()"
   ]
  },
  {
   "cell_type": "code",
   "execution_count": null,
   "metadata": {},
   "outputs": [],
   "source": [
    "clf.fit(X_train, y_train)"
   ]
  },
  {
   "cell_type": "code",
   "execution_count": null,
   "metadata": {},
   "outputs": [],
   "source": [
    "clf.score(X_test,y_test), mean_absolute_percentage_error(y_test,clf.predict(X_test))"
   ]
  },
  {
   "cell_type": "code",
   "execution_count": null,
   "metadata": {},
   "outputs": [],
   "source": [
    "clf.feature_importances_"
   ]
  },
  {
   "cell_type": "code",
   "execution_count": null,
   "metadata": {},
   "outputs": [],
   "source": [
    "fi_scores = np.array(sorted(list(zip(\n",
    "    [ f.split('_7d_avg')[0] for f in feats ],clf.feature_importances_)), key=lambda x: x[1], reverse=True))"
   ]
  },
  {
   "cell_type": "code",
   "execution_count": null,
   "metadata": {},
   "outputs": [],
   "source": [
    "fig, ax = plt.subplots()\n",
    "ax.bar(x=fi_scores[:,0],height=fi_scores[:,1].astype(float))\n",
    "ax.tick_params(axis=\"x\", rotation=60)"
   ]
  },
  {
   "cell_type": "code",
   "execution_count": null,
   "metadata": {},
   "outputs": [],
   "source": []
  }
 ],
 "metadata": {
  "kernelspec": {
   "display_name": "Python 3",
   "language": "python",
   "name": "python3"
  },
  "language_info": {
   "codemirror_mode": {
    "name": "ipython",
    "version": 3
   },
   "file_extension": ".py",
   "mimetype": "text/x-python",
   "name": "python",
   "nbconvert_exporter": "python",
   "pygments_lexer": "ipython3",
   "version": "3.8.0"
  }
 },
 "nbformat": 4,
 "nbformat_minor": 5
}
