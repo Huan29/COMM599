{
 "cells": [
  {
   "cell_type": "code",
   "execution_count": null,
   "metadata": {
    "scrolled": true
   },
   "outputs": [],
   "source": [
    "import sklearn.datasets\n",
    "# conda install -c conda-forge scikit-learn\n",
    "from sklearn import neighbors, tree, cluster\n",
    "from sklearn.model_selection import KFold\n",
    "from sklearn.metrics import accuracy_score, roc_auc_score, precision_score, recall_score, f1_score\n",
    "from sklearn.metrics import confusion_matrix, classification_report, ConfusionMatrixDisplay\n",
    "import matplotlib.pyplot as plt \n",
    "import numpy as np\n",
    "import itertools as it"
   ]
  },
  {
   "cell_type": "code",
   "execution_count": null,
   "metadata": {
    "scrolled": true
   },
   "outputs": [],
   "source": [
    "def draw_confusion_matrix(y_test, y_pred, display_labels=None):\n",
    "    cm = confusion_matrix(y_test, y_pred)\n",
    "    disp = ConfusionMatrixDisplay(confusion_matrix=cm,display_labels=display_labels)\n",
    "    disp.plot()\n",
    "    plt.show()"
   ]
  },
  {
   "cell_type": "code",
   "execution_count": null,
   "metadata": {
    "scrolled": true
   },
   "outputs": [],
   "source": [
    "def draw_scatter(data, labels, x_feature, y_feature):\n",
    "    plt.scatter(data[:, x_feature], data[:, y_feature], c=labels, alpha=0.5, s=100)\n",
    "    plt.xlabel(iris.feature_names[x_feature]), plt.ylabel(iris.feature_names[y_feature])\n",
    "    plt.show()"
   ]
  },
  {
   "cell_type": "markdown",
   "metadata": {},
   "source": [
    "## Loading example data: Iris plants dataset\n",
    "https://scikit-learn.org/stable/datasets/toy_dataset.html#iris-dataset"
   ]
  },
  {
   "cell_type": "code",
   "execution_count": null,
   "metadata": {
    "scrolled": true
   },
   "outputs": [],
   "source": [
    "iris = sklearn.datasets.load_iris()"
   ]
  },
  {
   "cell_type": "code",
   "execution_count": null,
   "metadata": {
    "scrolled": true
   },
   "outputs": [],
   "source": [
    "type(iris)"
   ]
  },
  {
   "cell_type": "code",
   "execution_count": null,
   "metadata": {
    "scrolled": true
   },
   "outputs": [],
   "source": [
    "iris.data.shape, iris.data[:5]"
   ]
  },
  {
   "cell_type": "code",
   "execution_count": null,
   "metadata": {
    "scrolled": true
   },
   "outputs": [],
   "source": [
    "iris.target.shape, np.unique(iris.target, return_counts=True)"
   ]
  },
  {
   "cell_type": "markdown",
   "metadata": {},
   "source": [
    "### Plot feature combinations + labels"
   ]
  },
  {
   "cell_type": "code",
   "execution_count": null,
   "metadata": {
    "scrolled": true
   },
   "outputs": [],
   "source": [
    "for i, j in it.combinations(enumerate(iris.feature_names), 2):\n",
    "    print (i,j)\n",
    "    draw_scatter(iris.data, iris.target, i[0], j[0])"
   ]
  },
  {
   "cell_type": "markdown",
   "metadata": {},
   "source": [
    "## ML Technique 1: Supervised Learning\n",
    "https://scikit-learn.org/stable/modules/generated/sklearn.neighbors.KNeighborsClassifier.html  \n",
    "https://scikit-learn.org/stable/modules/generated/sklearn.tree.DecisionTreeClassifier.html  "
   ]
  },
  {
   "cell_type": "code",
   "execution_count": null,
   "metadata": {
    "scrolled": true
   },
   "outputs": [],
   "source": [
    "### Instantiate K-NN Classifier\n",
    "# Note: no internal model constructed\n",
    "# Class is computed from a simple majority vote of the nearest neighbors of each point\n",
    "# clf = neighbors.KNeighborsClassifier(n_neighbors=1)"
   ]
  },
  {
   "cell_type": "code",
   "execution_count": null,
   "metadata": {
    "scrolled": true
   },
   "outputs": [],
   "source": [
    "# Instantiate Decision Tree classifier\n",
    "clf = tree.DecisionTreeClassifier()"
   ]
  },
  {
   "cell_type": "code",
   "execution_count": null,
   "metadata": {
    "scrolled": true
   },
   "outputs": [],
   "source": [
    "clf"
   ]
  },
  {
   "cell_type": "code",
   "execution_count": null,
   "metadata": {
    "scrolled": false
   },
   "outputs": [],
   "source": [
    "print ('feature names : ',iris.feature_names)\n",
    "# print(iris.data)\n",
    "print ('label names: ',iris.target_names)\n",
    "print('labels : ',iris.target)"
   ]
  },
  {
   "cell_type": "markdown",
   "metadata": {},
   "source": [
    "### Cross-validation and model evaluation\n",
    "https://scikit-learn.org/stable/modules/generated/sklearn.model_selection.KFold.html  \n",
    "https://scikit-learn.org/stable/modules/model_evaluation.html  "
   ]
  },
  {
   "cell_type": "code",
   "execution_count": null,
   "metadata": {},
   "outputs": [],
   "source": [
    "kf = KFold(n_splits=5, shuffle=True, random_state=123) "
   ]
  },
  {
   "cell_type": "code",
   "execution_count": null,
   "metadata": {
    "scrolled": true
   },
   "outputs": [],
   "source": [
    "# K-fold construction\n",
    "kf = KFold(n_splits=5, shuffle=True, random_state=123) \n",
    "\n",
    "cv_scores = []\n",
    "# K-fold cross validation and performance evaluation\n",
    "\n",
    "for max_depth in [5,10,15]:\n",
    "    accuracy_scores = []\n",
    "    for train_index, test_index in kf.split(iris.data):\n",
    "        clf = tree.DecisionTreeClassifier(max_depth=max_depth)\n",
    "        # draw_scatter(X_test, x_feature=2, y_feature=3)\n",
    "        print(\"TRAIN:\", len(train_index), \"TEST:\", len(test_index))\n",
    "        X_train, X_test = iris.data[train_index], iris.data[test_index]\n",
    "        y_train, y_test = iris.target[train_index], iris.target[test_index]\n",
    "\n",
    "        clf.fit(X_train, y_train)\n",
    "\n",
    "        y_pred = clf.predict(X_test)\n",
    "        train_pred = clf.predict(X_train)\n",
    "\n",
    "        print ('Prediction: ', y_pred)\n",
    "        print ('Correct:    ', y_test)\n",
    "        print ('Accuracy:', accuracy_score(y_pred, y_test))\n",
    "        print (classification_report(y_test, y_pred, target_names=iris.target_names))\n",
    "        draw_confusion_matrix(y_pred,y_test,iris.target_names)\n",
    "        acc = accuracy_score(y_pred,y_test)\n",
    "        accuracy_scores.append(acc)\n",
    "    cv_scores.append({'acc': np.mean(accuracy_scores), 'max_depth' : max_depth})\n",
    "    \n",
    "        "
   ]
  },
  {
   "cell_type": "code",
   "execution_count": null,
   "metadata": {},
   "outputs": [],
   "source": [
    "cv_scores"
   ]
  },
  {
   "cell_type": "code",
   "execution_count": null,
   "metadata": {
    "scrolled": true
   },
   "outputs": [],
   "source": [
    "'{:.2f} +/- {:.3f}'.format(np.mean(accuracy_scores), np.std(accuracy_scores))"
   ]
  },
  {
   "cell_type": "markdown",
   "metadata": {},
   "source": [
    "## ML Technique 2: Unsupervised Learning\n",
    "https://scikit-learn.org/stable/modules/generated/sklearn.cluster.KMeans.html"
   ]
  },
  {
   "cell_type": "code",
   "execution_count": null,
   "metadata": {},
   "outputs": [],
   "source": [
    "# unsupervised k-means \n",
    "k_means = cluster.KMeans(n_clusters=2)\n",
    "k_means.fit(iris.data)\n",
    "k_means_label = k_means.labels_"
   ]
  },
  {
   "cell_type": "markdown",
   "metadata": {},
   "source": [
    "### Plot feature combindations + clusters (k = 2)"
   ]
  },
  {
   "cell_type": "code",
   "execution_count": null,
   "metadata": {
    "scrolled": true
   },
   "outputs": [],
   "source": [
    "for i, j in it.combinations(enumerate(iris.feature_names), 2):\n",
    "    print(i,j)\n",
    "    draw_scatter(iris.data, k_means_label, i[0], j[0])"
   ]
  },
  {
   "cell_type": "code",
   "execution_count": null,
   "metadata": {
    "scrolled": true
   },
   "outputs": [],
   "source": [
    "# unsupervised k-means \n",
    "k_means = cluster.KMeans(n_clusters=4)\n",
    "k_means.fit(iris.data)\n",
    "k_means_label = k_means.labels_"
   ]
  },
  {
   "cell_type": "markdown",
   "metadata": {},
   "source": [
    "### Plot feature combindations + clusters (k = 4)"
   ]
  },
  {
   "cell_type": "code",
   "execution_count": null,
   "metadata": {
    "scrolled": true
   },
   "outputs": [],
   "source": [
    "for i, j in it.combinations(enumerate(iris.feature_names), 2):\n",
    "    print(i,j)\n",
    "    draw_scatter(iris.data, k_means_label, i[0], j[0])"
   ]
  },
  {
   "cell_type": "markdown",
   "metadata": {},
   "source": [
    "### Unsupervised learning evaluation: elbow plot"
   ]
  },
  {
   "cell_type": "code",
   "execution_count": null,
   "metadata": {
    "scrolled": true
   },
   "outputs": [],
   "source": [
    "inertias = []\n",
    "for k in range(2, 15):\n",
    "    kmeans = cluster.KMeans(n_clusters=k)\n",
    "    kmeans.fit(iris.data)\n",
    "    inertias.append(kmeans.inertia_)\n",
    "\n",
    "fig = plt.figure(figsize=(15, 5))\n",
    "plt.plot(range(2, 15), inertias)\n",
    "plt.grid(True)\n",
    "plt.title('Elbow curve')\n",
    "plt.xticks(list(range(2, 15)))\n",
    "plt.xlabel('K')\n",
    "_ = plt.ylabel('Intertia')"
   ]
  },
  {
   "cell_type": "code",
   "execution_count": null,
   "metadata": {
    "scrolled": true
   },
   "outputs": [],
   "source": [
    "# Sources:\n",
    "# http://www.astro.washington.edu/users/vanderplas/Astr599/notebooks/18_IntermediateSklearn\n",
    "# http://matplotlib.org/examples/pylab_examples/scatter_star_poly.html\n",
    "# http://scikit-learn.org/stable/auto_examples/cluster/plot_cluster_iris.html\n",
    "# http://scikit-learn.org/stable/auto_examples/plot_confusion_matrix.html#example-plot-confusion-matrix-py\n",
    "# https://scikit-learn.org/stable/modules/generated/sklearn.model_selection.KFold.html\n",
    "# http://scikit-learn.org/stable/tutorial/statistical_inference/supervised_learning.html"
   ]
  },
  {
   "cell_type": "code",
   "execution_count": null,
   "metadata": {},
   "outputs": [],
   "source": []
  }
 ],
 "metadata": {
  "kernelspec": {
   "display_name": "Python 3",
   "language": "python",
   "name": "python3"
  },
  "language_info": {
   "codemirror_mode": {
    "name": "ipython",
    "version": 3
   },
   "file_extension": ".py",
   "mimetype": "text/x-python",
   "name": "python",
   "nbconvert_exporter": "python",
   "pygments_lexer": "ipython3",
   "version": "3.8.0"
  }
 },
 "nbformat": 4,
 "nbformat_minor": 1
}
