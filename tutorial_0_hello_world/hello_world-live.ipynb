{
 "cells": [
  {
   "cell_type": "markdown",
   "metadata": {},
   "source": [
    "## Hello World!\n",
    "\n",
    "Welcome to our first tutorial! This tutorial is a brief run through of the basic concepts of programming, and introduces you to the Python programming language. "
   ]
  },
  {
   "cell_type": "code",
   "execution_count": 1,
   "metadata": {},
   "outputs": [
    {
     "name": "stdout",
     "output_type": "stream",
     "text": [
      "Ello, world 2\n"
     ]
    }
   ],
   "source": [
    "print (\"Ello, world 2\")"
   ]
  },
  {
   "cell_type": "markdown",
   "metadata": {},
   "source": [
    "## Defining types of variables"
   ]
  },
  {
   "cell_type": "code",
   "execution_count": 7,
   "metadata": {},
   "outputs": [],
   "source": [
    "# This is a comment, code that is not executed signaled by a `#`\n",
    "\n",
    "# type: String\n",
    "class_category = \"COMM\"\n",
    "# type: Integer\n",
    "class_num = 577\n",
    "curr_students = 39\n",
    "max_students = 40\n",
    "# type: Float\n",
    "fraction_filled = curr_students/max_students \n",
    "percent_filled = fraction_filled * 100 \n",
    "# type: Boolean\n",
    "to_print = True"
   ]
  },
  {
   "cell_type": "code",
   "execution_count": 3,
   "metadata": {},
   "outputs": [
    {
     "name": "stdout",
     "output_type": "stream",
     "text": [
      "97.5\n"
     ]
    }
   ],
   "source": [
    "if to_print: \n",
    "    # implicitly, to_print == True\n",
    "    print(percent_filled)"
   ]
  },
  {
   "cell_type": "markdown",
   "metadata": {},
   "source": [
    "### `print` vs. `return`"
   ]
  },
  {
   "cell_type": "code",
   "execution_count": 4,
   "metadata": {},
   "outputs": [],
   "source": [
    "def calc_fraction(n1, n2): \n",
    "    cat = 'feline'\n",
    "    print(cat) \n",
    "    return n1/n2"
   ]
  },
  {
   "cell_type": "code",
   "execution_count": 5,
   "metadata": {},
   "outputs": [
    {
     "name": "stdout",
     "output_type": "stream",
     "text": [
      "feline\n",
      "0.5\n"
     ]
    }
   ],
   "source": [
    "print(calc_fraction(1,2))"
   ]
  },
  {
   "cell_type": "markdown",
   "metadata": {},
   "source": [
    "### Implicit variable type conversions"
   ]
  },
  {
   "cell_type": "code",
   "execution_count": 12,
   "metadata": {},
   "outputs": [],
   "source": [
    "message = class_category + \" \" + str(class_num) \\\n",
    "    + \" is \" \\\n",
    "    + str(percent_filled) + \"% filled!\""
   ]
  },
  {
   "cell_type": "code",
   "execution_count": 13,
   "metadata": {},
   "outputs": [
    {
     "data": {
      "text/plain": [
       "'COMM 577 is 97.5% filled!'"
      ]
     },
     "execution_count": 13,
     "metadata": {},
     "output_type": "execute_result"
    }
   ],
   "source": [
    "message"
   ]
  }
 ],
 "metadata": {
  "kernelspec": {
   "display_name": "Python 3",
   "language": "python",
   "name": "python3"
  },
  "language_info": {
   "codemirror_mode": {
    "name": "ipython",
    "version": 3
   },
   "file_extension": ".py",
   "mimetype": "text/x-python",
   "name": "python",
   "nbconvert_exporter": "python",
   "pygments_lexer": "ipython3",
   "version": "3.8.0"
  }
 },
 "nbformat": 4,
 "nbformat_minor": 2
}
