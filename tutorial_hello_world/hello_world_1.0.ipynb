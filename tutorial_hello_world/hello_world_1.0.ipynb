{
 "cells": [
  {
   "cell_type": "markdown",
   "metadata": {},
   "source": [
    "Some of the following exercises are taken from Python for Data Science UCSanDiegoX - DSE200x offered edx.org\n",
    "\n",
    "https://courses.edx.org/courses/course-v1:UCSanDiegoX+DSE200x+3T2019a/course/"
   ]
  },
  {
   "cell_type": "code",
   "execution_count": null,
   "metadata": {},
   "outputs": [],
   "source": [
    "# If-statements\n",
    "num = 5\n",
    "if num > 2:\n",
    "    print(num)\n",
    "else:\n",
    "    print(num - 1)"
   ]
  },
  {
   "cell_type": "code",
   "execution_count": null,
   "metadata": {},
   "outputs": [],
   "source": [
    "# Variable assignment\n",
    "str1 = ‘annen’\n",
    "str2 = ‘berg’\n",
    "str3 = str1 + str2\n",
    "# How do we check the value of str1, str2 and str3"
   ]
  },
  {
   "cell_type": "code",
   "execution_count": null,
   "metadata": {},
   "outputs": [],
   "source": [
    "# Variable reassignment\n",
    "num = 5 # num gets 5\n",
    "num = num + 1 # num gets num plus 1\n",
    "# What is num?"
   ]
  },
  {
   "cell_type": "code",
   "execution_count": null,
   "metadata": {},
   "outputs": [],
   "source": [
    "num += 1\n",
    "# what is num now?"
   ]
  },
  {
   "cell_type": "code",
   "execution_count": null,
   "metadata": {},
   "outputs": [],
   "source": [
    "# Variable (re)assignment\n",
    "x = 7\n",
    "y = x\n",
    "x = 3\n",
    "print(x, \", \", y) # You can print multiple variables and/or strings at once\n",
    "# What will this print (i.e., output)?"
   ]
  },
  {
   "cell_type": "code",
   "execution_count": null,
   "metadata": {},
   "outputs": [],
   "source": [
    "# For loops\n",
    "letters_list = ['a', 'b', 'c', 'x', 'y', 'z']\n",
    "for letter in letters_list:\n",
    "    print(letter)\n",
    "    "
   ]
  },
  {
   "cell_type": "code",
   "execution_count": null,
   "metadata": {},
   "outputs": [],
   "source": [
    "# For loops, a different flavor\n",
    "for i in range(len(letters_list)):\n",
    "    print(letters_list[i])"
   ]
  },
  {
   "cell_type": "code",
   "execution_count": null,
   "metadata": {},
   "outputs": [],
   "source": [
    "# While loops, but does the same thing \n",
    "\n",
    "i = 0 # To set up a while loop, you must first create a variable i\n",
    "while i < len(letters_list):\n",
    "    print(letters_list[i])\n",
    "    i += 1 # Don't forget to increment i"
   ]
  },
  {
   "cell_type": "code",
   "execution_count": null,
   "metadata": {},
   "outputs": [],
   "source": [
    "# More while loops\n",
    "i = 0\n",
    "while i < 10:\n",
    "    print(i)\n",
    "    i += 1\n",
    "# How many times will the loop test be evaluated?\n",
    "# Equivalently, how many times will we print the value of i?\n",
    "# What is the value of i after the loop? How can we check?\n"
   ]
  },
  {
   "cell_type": "code",
   "execution_count": null,
   "metadata": {},
   "outputs": [],
   "source": [
    "# Watch out for infinite loops!\n",
    "num = 5\n",
    "while num > 0:\n",
    "    print(num)"
   ]
  },
  {
   "cell_type": "code",
   "execution_count": null,
   "metadata": {},
   "outputs": [],
   "source": [
    "# Navigating infinite loops\n",
    "keep_looping = True\n",
    "count = 0\n",
    "# This is the same as \n",
    "# while keep_looping == True:\n",
    "while keep_looping: \n",
    "    count += 1 \n",
    "    print (count)\n",
    "    \n",
    "    if count == 5: \n",
    "        keep_looping = False"
   ]
  },
  {
   "cell_type": "code",
   "execution_count": null,
   "metadata": {},
   "outputs": [],
   "source": [
    "# Using break statements in loops\n",
    "count = 0\n",
    "while True: \n",
    "    if count == 5: \n",
    "        break\n",
    "    count += 1 \n",
    "    print (count)\n",
    "    "
   ]
  },
  {
   "cell_type": "code",
   "execution_count": null,
   "metadata": {},
   "outputs": [],
   "source": [
    "# Using continue statements in loops\n",
    "count = 0\n",
    "while True: \n",
    "    count += 1 \n",
    "    \n",
    "    if count == 5: \n",
    "        continue\n",
    "    print (count)\n",
    "\n",
    "    if count == 10: \n",
    "        break"
   ]
  },
  {
   "cell_type": "code",
   "execution_count": null,
   "metadata": {},
   "outputs": [],
   "source": [
    "# Countdown exercise"
   ]
  },
  {
   "cell_type": "code",
   "execution_count": null,
   "metadata": {},
   "outputs": [],
   "source": []
  },
  {
   "cell_type": "code",
   "execution_count": null,
   "metadata": {},
   "outputs": [],
   "source": [
    "# User defined function\n",
    "# Pay attention to how I documented (i.e., commented) in-line. \n",
    "def my_abs(val):\n",
    "    \"\"\"\n",
    "    my_abs returns the absolute value of the given value.\n",
    "    @param val: an integer\n",
    "    @return : the absolute value of val\n",
    "    \"\"\"\n",
    "    if val < 0: # If value is negative, return 0 - the value, which is its absolute value\n",
    "        return 0 - val\n",
    "    # Otherwise, simply return the value as is\n",
    "    return val\n",
    "\n",
    "print(my_abs(0))\n",
    "print(my_abs(1))\n",
    "print(my_abs(-5))"
   ]
  },
  {
   "cell_type": "code",
   "execution_count": null,
   "metadata": {},
   "outputs": [],
   "source": [
    "# How is this different from my_abs and why?\n",
    "\n",
    "def my_abs2(val):\n",
    "    if val < 0:\n",
    "        print(0 - val)\n",
    "    else:\n",
    "        print(val)\n",
    "        \n",
    "print(my_abs2(0))\n",
    "print(my_abs2(1))\n",
    "print(my_abs2(-5))\n",
    "\n"
   ]
  },
  {
   "cell_type": "code",
   "execution_count": null,
   "metadata": {},
   "outputs": [],
   "source": [
    "# You can also make a function that takes multiple parameters.\n",
    "def swap(val1, val2):\n",
    "    tmp = val1\n",
    "    val1 = val2\n",
    "    val2 = tmp\n",
    "\n",
    "x = 6\n",
    "y = 3\n",
    "swap(x, y)\n",
    "print(x, \", \", y)\n",
    "\n",
    "# What do you think should be printed?\n",
    "# Run this cell. Is it what you expected?\n",
    "\n",
    "print(tmp) # what's wrong with this line?"
   ]
  },
  {
   "cell_type": "code",
   "execution_count": null,
   "metadata": {},
   "outputs": [],
   "source": [
    "# Lists\n",
    "x = [10,20,30]\n",
    "y = x\n",
    "x[1] = 42\n",
    "print(y)"
   ]
  },
  {
   "cell_type": "code",
   "execution_count": null,
   "metadata": {},
   "outputs": [],
   "source": [
    "# Dicts\n",
    "words = ['it', 'was', 'the', 'best', 'of', 'times',\n",
    "         'it', 'was', 'the', 'worst', 'of', 'times',\n",
    "         'it', 'was', 'the', 'age', 'of', 'wisdoms']\n",
    "word_counts = {} # empty dictionary\n",
    "for w in words:\n",
    "    if w not in word_counts:\n",
    "        word_counts[w] = 1\n",
    "    else:\n",
    "        word_counts[w] += 1\n",
    "print(word_counts)\n"
   ]
  },
  {
   "cell_type": "code",
   "execution_count": null,
   "metadata": {},
   "outputs": [],
   "source": []
  }
 ],
 "metadata": {
  "kernelspec": {
   "display_name": "Python 3",
   "language": "python",
   "name": "python3"
  },
  "language_info": {
   "codemirror_mode": {
    "name": "ipython",
    "version": 3
   },
   "file_extension": ".py",
   "mimetype": "text/x-python",
   "name": "python",
   "nbconvert_exporter": "python",
   "pygments_lexer": "ipython3",
   "version": "3.7.4"
  }
 },
 "nbformat": 4,
 "nbformat_minor": 2
}
